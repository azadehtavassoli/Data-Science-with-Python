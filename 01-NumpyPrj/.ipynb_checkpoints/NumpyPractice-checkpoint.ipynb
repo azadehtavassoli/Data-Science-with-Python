{
 "cells": [
  {
   "cell_type": "markdown",
   "id": "a94474de",
   "metadata": {},
   "source": [
    "# Introduction to numpy\n",
    "\n",
    "NumPy is the fundamental package for scientific computing in Python.\n"
   ]
  },
  {
   "cell_type": "code",
   "execution_count": 2,
   "id": "06be454c",
   "metadata": {},
   "outputs": [],
   "source": [
    "#Import numpy \n",
    "import numpy as np"
   ]
  },
  {
   "cell_type": "code",
   "execution_count": 3,
   "id": "e878c936",
   "metadata": {},
   "outputs": [
    {
     "data": {
      "text/plain": [
       "'1.21.5'"
      ]
     },
     "execution_count": 3,
     "metadata": {},
     "output_type": "execute_result"
    }
   ],
   "source": [
    "#checking version of numpy\n",
    "np.__version__"
   ]
  },
  {
   "cell_type": "markdown",
   "id": "96e769cd",
   "metadata": {},
   "source": [
    "## Array\n",
    "numpy.array()"
   ]
  },
  {
   "cell_type": "code",
   "execution_count": 5,
   "id": "40a370ff",
   "metadata": {},
   "outputs": [
    {
     "data": {
      "text/plain": [
       "array([[1, 2],\n",
       "       [3, 4]])"
      ]
     },
     "execution_count": 5,
     "metadata": {},
     "output_type": "execute_result"
    }
   ],
   "source": [
    "a = np.array([[1, 2],[3, 4]])\n",
    "a"
   ]
  },
  {
   "cell_type": "markdown",
   "id": "5330d91c",
   "metadata": {},
   "source": [
    "## Matrix\n"
   ]
  },
  {
   "cell_type": "code",
   "execution_count": 6,
   "id": "68c07f8f",
   "metadata": {},
   "outputs": [
    {
     "data": {
      "text/plain": [
       "matrix([[1, 2],\n",
       "        [3, 4]])"
      ]
     },
     "execution_count": 6,
     "metadata": {},
     "output_type": "execute_result"
    }
   ],
   "source": [
    "b = np.matrix([[1, 2],[3, 4]])\n",
    "b"
   ]
  },
  {
   "cell_type": "markdown",
   "id": "efea53a6",
   "metadata": {},
   "source": [
    "## Numpy and Matrix difference\n",
    "In NumPy, an array and a matrix are two different types of data structures, although they share many similarities.\n",
    "\n",
    "An array is a multi-dimensional container for homogeneous data, meaning that all elements must have the same data type. It can have any number of dimensions, from 1 to N. For example, a 1D array is like a list, while a 2D array is like a table.\n",
    "\n",
    "A matrix is a special case of an array that always has two dimensions."
   ]
  },
  {
   "cell_type": "markdown",
   "id": "7dc02689",
   "metadata": {},
   "source": [
    "## Dtype\n"
   ]
  },
  {
   "cell_type": "code",
   "execution_count": 7,
   "id": "ce88ca97",
   "metadata": {},
   "outputs": [
    {
     "data": {
      "text/plain": [
       "array([1, 2, 3], dtype=int8)"
      ]
     },
     "execution_count": 7,
     "metadata": {},
     "output_type": "execute_result"
    }
   ],
   "source": [
    "np.array([1, 2, 3], dtype='int8')"
   ]
  },
  {
   "cell_type": "markdown",
   "id": "489e3270",
   "metadata": {},
   "source": [
    "## Multiplication\n"
   ]
  },
  {
   "cell_type": "code",
   "execution_count": 11,
   "id": "cb5dc6ff",
   "metadata": {},
   "outputs": [],
   "source": [
    "# Matrix multiplication : @ or numpy.dot()\n",
    "# * represents multiplication in Python\n",
    "# @ represents matrix multiplication in Python (particularly useful in NumPy)\n",
    "# numpy.multiply() performs element-wise multiplication between two arrays."
   ]
  },
  {
   "cell_type": "code",
   "execution_count": 8,
   "id": "cbca3a6f",
   "metadata": {},
   "outputs": [
    {
     "data": {
      "text/plain": [
       "array([[ 7, 10],\n",
       "       [15, 22]])"
      ]
     },
     "execution_count": 8,
     "metadata": {},
     "output_type": "execute_result"
    }
   ],
   "source": [
    "a @ a"
   ]
  },
  {
   "cell_type": "code",
   "execution_count": 9,
   "id": "5c277d75",
   "metadata": {},
   "outputs": [
    {
     "data": {
      "text/plain": [
       "array([[ 7, 10],\n",
       "       [15, 22]])"
      ]
     },
     "execution_count": 9,
     "metadata": {},
     "output_type": "execute_result"
    }
   ],
   "source": [
    "np.dot(a,a)"
   ]
  },
  {
   "cell_type": "markdown",
   "id": "e4b9f0ee",
   "metadata": {},
   "source": [
    "# numpy.multiply()\n"
   ]
  },
  {
   "cell_type": "code",
   "execution_count": 10,
   "id": "6c72e64e",
   "metadata": {},
   "outputs": [
    {
     "data": {
      "text/plain": [
       "array([[ 1,  4],\n",
       "       [ 9, 16]])"
      ]
     },
     "execution_count": 10,
     "metadata": {},
     "output_type": "execute_result"
    }
   ],
   "source": [
    "np.multiply(a,a)"
   ]
  },
  {
   "cell_type": "markdown",
   "id": "bafd7e2e",
   "metadata": {},
   "source": [
    "# * in Matrix"
   ]
  },
  {
   "cell_type": "code",
   "execution_count": 13,
   "id": "8674aabc",
   "metadata": {},
   "outputs": [
    {
     "name": "stdout",
     "output_type": "stream",
     "text": [
      "[[1 2]\n",
      " [3 4]]\n"
     ]
    },
    {
     "data": {
      "text/plain": [
       "matrix([[ 7, 10],\n",
       "        [15, 22]])"
      ]
     },
     "execution_count": 13,
     "metadata": {},
     "output_type": "execute_result"
    }
   ],
   "source": [
    "print (b)\n",
    "\n",
    "b*b\n"
   ]
  },
  {
   "cell_type": "markdown",
   "id": "fe9daa6d",
   "metadata": {},
   "source": [
    "#  * in Array"
   ]
  },
  {
   "cell_type": "code",
   "execution_count": 14,
   "id": "4a841769",
   "metadata": {},
   "outputs": [
    {
     "name": "stdout",
     "output_type": "stream",
     "text": [
      "[[1 2]\n",
      " [3 4]]\n"
     ]
    },
    {
     "data": {
      "text/plain": [
       "array([[ 1,  4],\n",
       "       [ 9, 16]])"
      ]
     },
     "execution_count": 14,
     "metadata": {},
     "output_type": "execute_result"
    }
   ],
   "source": [
    "print(a)\n",
    "a*a"
   ]
  },
  {
   "cell_type": "markdown",
   "id": "0244bfba",
   "metadata": {},
   "source": [
    "# prod"
   ]
  },
  {
   "cell_type": "code",
   "execution_count": 15,
   "id": "bf911d0a",
   "metadata": {},
   "outputs": [],
   "source": [
    "#  the np.prod(a) call returns the product of all elements in the array a, which is 1 * 2 * 3 * 4 = 24."
   ]
  },
  {
   "cell_type": "code",
   "execution_count": 16,
   "id": "7e191685",
   "metadata": {},
   "outputs": [
    {
     "data": {
      "text/plain": [
       "24"
      ]
     },
     "execution_count": 16,
     "metadata": {},
     "output_type": "execute_result"
    }
   ],
   "source": [
    "np.prod(a)"
   ]
  },
  {
   "cell_type": "markdown",
   "id": "31cac467",
   "metadata": {},
   "source": [
    "# Broadcasting"
   ]
  },
  {
   "cell_type": "code",
   "execution_count": 17,
   "id": "cb38294f",
   "metadata": {},
   "outputs": [
    {
     "data": {
      "text/plain": [
       "array([6, 7, 8])"
      ]
     },
     "execution_count": 17,
     "metadata": {},
     "output_type": "execute_result"
    }
   ],
   "source": [
    "my_array = np.array([1, 2, 3])\n",
    "my_array + 5"
   ]
  },
  {
   "cell_type": "markdown",
   "id": "c74b8e42",
   "metadata": {},
   "source": [
    "# ones "
   ]
  },
  {
   "cell_type": "code",
   "execution_count": 18,
   "id": "34e4cf4f",
   "metadata": {},
   "outputs": [],
   "source": [
    "# a=np.ones((2, 3)) call creates a 2x3 array filled with ones, which is then assigned to the variable a"
   ]
  },
  {
   "cell_type": "code",
   "execution_count": 19,
   "id": "36d26913",
   "metadata": {},
   "outputs": [
    {
     "data": {
      "text/plain": [
       "array([[6., 7., 8.],\n",
       "       [6., 7., 8.],\n",
       "       [6., 7., 8.]])"
      ]
     },
     "execution_count": 19,
     "metadata": {},
     "output_type": "execute_result"
    }
   ],
   "source": [
    "a = np.ones((3,3))\n",
    "b = np.array([5, 6, 7])\n",
    "a + b"
   ]
  },
  {
   "cell_type": "code",
   "execution_count": 20,
   "id": "c36929be",
   "metadata": {},
   "outputs": [
    {
     "data": {
      "text/plain": [
       "array([[6., 7., 8.],\n",
       "       [6., 7., 8.],\n",
       "       [6., 7., 8.]])"
      ]
     },
     "execution_count": 20,
     "metadata": {},
     "output_type": "execute_result"
    }
   ],
   "source": [
    "a = np.ones((3,1))\n",
    "b = np.array([5, 6, 7])\n",
    "a + b"
   ]
  },
  {
   "cell_type": "markdown",
   "id": "f1e8fb22",
   "metadata": {},
   "source": [
    "# Summation"
   ]
  },
  {
   "cell_type": "code",
   "execution_count": 21,
   "id": "34e8d804",
   "metadata": {},
   "outputs": [],
   "source": [
    "# sum is a function that computes the sum of all the elements in an array or along a specified axis. The syntax for numpy.sum()"
   ]
  },
  {
   "cell_type": "code",
   "execution_count": 23,
   "id": "9fa1df84",
   "metadata": {},
   "outputs": [
    {
     "data": {
      "text/plain": [
       "10"
      ]
     },
     "execution_count": 23,
     "metadata": {},
     "output_type": "execute_result"
    }
   ],
   "source": [
    "a=np.array([[1,2],[3,4]])\n",
    "np.sum(a)"
   ]
  },
  {
   "cell_type": "code",
   "execution_count": 24,
   "id": "7673d44f",
   "metadata": {},
   "outputs": [
    {
     "data": {
      "text/plain": [
       "array([[1, 2],\n",
       "       [4, 6]], dtype=int32)"
      ]
     },
     "execution_count": 24,
     "metadata": {},
     "output_type": "execute_result"
    }
   ],
   "source": [
    "# Row - axis=0\n",
    "np.cumsum(a, axis=0)"
   ]
  },
  {
   "cell_type": "code",
   "execution_count": 26,
   "id": "00c1ab7d",
   "metadata": {},
   "outputs": [
    {
     "data": {
      "text/plain": [
       "array([[1, 3],\n",
       "       [3, 7]], dtype=int32)"
      ]
     },
     "execution_count": 26,
     "metadata": {},
     "output_type": "execute_result"
    }
   ],
   "source": [
    "# col - axis=1\n",
    "np.cumsum(a, axis=1)"
   ]
  },
  {
   "cell_type": "markdown",
   "id": "bbcae68e",
   "metadata": {},
   "source": [
    "# Subtraction"
   ]
  },
  {
   "cell_type": "code",
   "execution_count": 27,
   "id": "71683a7c",
   "metadata": {},
   "outputs": [
    {
     "data": {
      "text/plain": [
       "array([[0, 0],\n",
       "       [0, 0]])"
      ]
     },
     "execution_count": 27,
     "metadata": {},
     "output_type": "execute_result"
    }
   ],
   "source": [
    "np.subtract(a, a)\n"
   ]
  },
  {
   "cell_type": "markdown",
   "id": "ce4e7b49",
   "metadata": {},
   "source": [
    "# division"
   ]
  },
  {
   "cell_type": "code",
   "execution_count": 28,
   "id": "cf70cb2c",
   "metadata": {},
   "outputs": [
    {
     "data": {
      "text/plain": [
       "array([1.66666667, 2.        , 2.33333333])"
      ]
     },
     "execution_count": 28,
     "metadata": {},
     "output_type": "execute_result"
    }
   ],
   "source": [
    "np.divide([5, 6, 7],3)\n"
   ]
  },
  {
   "cell_type": "code",
   "execution_count": 29,
   "id": "a2dafb1f",
   "metadata": {},
   "outputs": [
    {
     "data": {
      "text/plain": [
       "array([1, 2, 2], dtype=int32)"
      ]
     },
     "execution_count": 29,
     "metadata": {},
     "output_type": "execute_result"
    }
   ],
   "source": [
    "np.floor_divide([5,6,7],3)"
   ]
  },
  {
   "cell_type": "markdown",
   "id": "b6ac1d8c",
   "metadata": {},
   "source": [
    "# Numpy.math()"
   ]
  },
  {
   "cell_type": "code",
   "execution_count": 30,
   "id": "a5ff6e88",
   "metadata": {},
   "outputs": [
    {
     "data": {
      "text/plain": [
       "2.23606797749979"
      ]
     },
     "execution_count": 30,
     "metadata": {},
     "output_type": "execute_result"
    }
   ],
   "source": [
    "np.math.sqrt(5)\n"
   ]
  },
  {
   "cell_type": "code",
   "execution_count": 31,
   "id": "3efeaa4d",
   "metadata": {},
   "outputs": [
    {
     "data": {
      "text/plain": [
       "nan"
      ]
     },
     "execution_count": 31,
     "metadata": {},
     "output_type": "execute_result"
    }
   ],
   "source": [
    "np.math.nan"
   ]
  },
  {
   "cell_type": "code",
   "execution_count": 32,
   "id": "8bcdc76c",
   "metadata": {},
   "outputs": [
    {
     "data": {
      "text/plain": [
       "inf"
      ]
     },
     "execution_count": 32,
     "metadata": {},
     "output_type": "execute_result"
    }
   ],
   "source": [
    "np.math.inf"
   ]
  },
  {
   "cell_type": "markdown",
   "id": "aa1c3c63",
   "metadata": {},
   "source": [
    "# Generate random numbers"
   ]
  },
  {
   "cell_type": "code",
   "execution_count": 34,
   "id": "7ac8e019",
   "metadata": {},
   "outputs": [
    {
     "data": {
      "text/plain": [
       "array([[3.85696144, 3.36340485, 1.15180593],\n",
       "       [2.45799869, 3.38453038, 1.74674021]])"
      ]
     },
     "execution_count": 34,
     "metadata": {},
     "output_type": "execute_result"
    }
   ],
   "source": [
    "# 2 row,3 col nad umber is 1<n<5 \n",
    "np.random.uniform(1,5,(2,3))\n"
   ]
  },
  {
   "cell_type": "code",
   "execution_count": 35,
   "id": "d4673dad",
   "metadata": {},
   "outputs": [
    {
     "data": {
      "text/plain": [
       "array([[ 0.20339541],\n",
       "       [-0.46600957]])"
      ]
     },
     "execution_count": 35,
     "metadata": {},
     "output_type": "execute_result"
    }
   ],
   "source": [
    "np.random.standard_normal((2,1))"
   ]
  },
  {
   "cell_type": "markdown",
   "id": "46a0ef0f",
   "metadata": {},
   "source": [
    "# Sequences"
   ]
  },
  {
   "cell_type": "code",
   "execution_count": 36,
   "id": "65941a68",
   "metadata": {},
   "outputs": [
    {
     "data": {
      "text/plain": [
       "array([1., 4., 7.])"
      ]
     },
     "execution_count": 36,
     "metadata": {},
     "output_type": "execute_result"
    }
   ],
   "source": [
    "#np.arange(start, stop, step)\n",
    "#np.linspace(start, stop, num)\n",
    "np.arange(1,10,3,dtype='float')"
   ]
  },
  {
   "cell_type": "code",
   "execution_count": 37,
   "id": "948a8d1a",
   "metadata": {},
   "outputs": [
    {
     "data": {
      "text/plain": [
       "array([ 1.,  4.,  7., 10.])"
      ]
     },
     "execution_count": 37,
     "metadata": {},
     "output_type": "execute_result"
    }
   ],
   "source": [
    "np.linspace(1, 10, 4)\n"
   ]
  },
  {
   "cell_type": "markdown",
   "id": "865401f7",
   "metadata": {},
   "source": [
    "# Mask"
   ]
  },
  {
   "cell_type": "code",
   "execution_count": 39,
   "id": "5442c9d4",
   "metadata": {},
   "outputs": [
    {
     "name": "stdout",
     "output_type": "stream",
     "text": [
      "[[1 2]\n",
      " [3 4]]\n"
     ]
    },
    {
     "data": {
      "text/plain": [
       "array([3, 4])"
      ]
     },
     "execution_count": 39,
     "metadata": {},
     "output_type": "execute_result"
    }
   ],
   "source": [
    "print(a)\n",
    "my_mask = a>2\n",
    "a[my_mask]\n"
   ]
  },
  {
   "cell_type": "code",
   "execution_count": 40,
   "id": "2699ab57",
   "metadata": {},
   "outputs": [
    {
     "data": {
      "text/plain": [
       "array([2, 3])"
      ]
     },
     "execution_count": 40,
     "metadata": {},
     "output_type": "execute_result"
    }
   ],
   "source": [
    "my_mask2 = np.logical_and(a>1,a<4)\n",
    "a[my_mask2]"
   ]
  },
  {
   "cell_type": "markdown",
   "id": "d6602a42",
   "metadata": {},
   "source": [
    "# Array creation"
   ]
  },
  {
   "cell_type": "code",
   "execution_count": 41,
   "id": "0b74554f",
   "metadata": {},
   "outputs": [
    {
     "data": {
      "text/plain": [
       "array([[0., 0.],\n",
       "       [0., 0.],\n",
       "       [0., 0.]])"
      ]
     },
     "execution_count": 41,
     "metadata": {},
     "output_type": "execute_result"
    }
   ],
   "source": [
    "my_zeros = np.zeros((3,2))\n",
    "my_zeros"
   ]
  },
  {
   "cell_type": "code",
   "execution_count": 42,
   "id": "6343a7a3",
   "metadata": {},
   "outputs": [
    {
     "data": {
      "text/plain": [
       "array([[1., 1.],\n",
       "       [1., 1.],\n",
       "       [1., 1.]])"
      ]
     },
     "execution_count": 42,
     "metadata": {},
     "output_type": "execute_result"
    }
   ],
   "source": [
    "my_ones = np.ones((3,2))\n",
    "my_ones\n"
   ]
  },
  {
   "cell_type": "code",
   "execution_count": 43,
   "id": "022b8809",
   "metadata": {},
   "outputs": [
    {
     "data": {
      "text/plain": [
       "6"
      ]
     },
     "execution_count": 43,
     "metadata": {},
     "output_type": "execute_result"
    }
   ],
   "source": [
    "np.size(my_ones)"
   ]
  },
  {
   "cell_type": "code",
   "execution_count": 44,
   "id": "cfd06107",
   "metadata": {},
   "outputs": [
    {
     "data": {
      "text/plain": [
       "(3, 2)"
      ]
     },
     "execution_count": 44,
     "metadata": {},
     "output_type": "execute_result"
    }
   ],
   "source": [
    "np.shape(my_ones)"
   ]
  },
  {
   "cell_type": "markdown",
   "id": "265b2ace",
   "metadata": {},
   "source": [
    "# Sort\n"
   ]
  },
  {
   "cell_type": "code",
   "execution_count": 45,
   "id": "08d8ec07",
   "metadata": {},
   "outputs": [
    {
     "name": "stdout",
     "output_type": "stream",
     "text": [
      "[[1 4]\n",
      " [3 2]]\n"
     ]
    },
    {
     "data": {
      "text/plain": [
       "array([[1, 2],\n",
       "       [3, 4]])"
      ]
     },
     "execution_count": 45,
     "metadata": {},
     "output_type": "execute_result"
    }
   ],
   "source": [
    "a = np.array([[1,4],[3,2]])\n",
    "print(a)\n",
    "np.sort(a, axis=0)"
   ]
  },
  {
   "cell_type": "code",
   "execution_count": 47,
   "id": "0729ef72",
   "metadata": {},
   "outputs": [
    {
     "name": "stdout",
     "output_type": "stream",
     "text": [
      "[[1 4]\n",
      " [3 2]]\n"
     ]
    },
    {
     "data": {
      "text/plain": [
       "array([[0, 1],\n",
       "       [1, 0]], dtype=int64)"
      ]
     },
     "execution_count": 47,
     "metadata": {},
     "output_type": "execute_result"
    }
   ],
   "source": [
    "print(a)\n",
    "np.argsort(a)"
   ]
  },
  {
   "cell_type": "markdown",
   "id": "e7d613b2",
   "metadata": {},
   "source": [
    "# unique"
   ]
  },
  {
   "cell_type": "code",
   "execution_count": 48,
   "id": "cdb6241f",
   "metadata": {},
   "outputs": [
    {
     "data": {
      "text/plain": [
       "array([1, 2, 3, 4])"
      ]
     },
     "execution_count": 48,
     "metadata": {},
     "output_type": "execute_result"
    }
   ],
   "source": [
    "a = np.array([1,2,3,4,1,3])\n",
    "np.unique(a)"
   ]
  },
  {
   "cell_type": "code",
   "execution_count": 49,
   "id": "0b6f5462",
   "metadata": {},
   "outputs": [
    {
     "data": {
      "text/plain": [
       "array([1, 3, 7, 8, 9])"
      ]
     },
     "execution_count": 49,
     "metadata": {},
     "output_type": "execute_result"
    }
   ],
   "source": [
    "b= np.array([7,8,9,1,3,8])\n",
    "np.unique(b)"
   ]
  },
  {
   "cell_type": "markdown",
   "id": "37d89f50",
   "metadata": {},
   "source": [
    "# union & intersect"
   ]
  },
  {
   "cell_type": "code",
   "execution_count": 51,
   "id": "fdebe4c2",
   "metadata": {},
   "outputs": [
    {
     "data": {
      "text/plain": [
       "array([1, 2, 3, 4, 7, 8, 9])"
      ]
     },
     "execution_count": 51,
     "metadata": {},
     "output_type": "execute_result"
    }
   ],
   "source": [
    "np.union1d(a,b)"
   ]
  },
  {
   "cell_type": "code",
   "execution_count": 52,
   "id": "e522bf33",
   "metadata": {},
   "outputs": [
    {
     "data": {
      "text/plain": [
       "array([1, 3])"
      ]
     },
     "execution_count": 52,
     "metadata": {},
     "output_type": "execute_result"
    }
   ],
   "source": [
    "np.intersect1d(a,b)"
   ]
  },
  {
   "cell_type": "markdown",
   "id": "901852cb",
   "metadata": {},
   "source": [
    "# Mean & Median & Var & std"
   ]
  },
  {
   "cell_type": "code",
   "execution_count": 53,
   "id": "01fb9677",
   "metadata": {},
   "outputs": [
    {
     "name": "stdout",
     "output_type": "stream",
     "text": [
      "[1 2 3 4 1 3]\n"
     ]
    },
    {
     "data": {
      "text/plain": [
       "2.3333333333333335"
      ]
     },
     "execution_count": 53,
     "metadata": {},
     "output_type": "execute_result"
    }
   ],
   "source": [
    "print(a)\n",
    "\n",
    "np.mean(a)"
   ]
  },
  {
   "cell_type": "code",
   "execution_count": 54,
   "id": "1b3798d7",
   "metadata": {},
   "outputs": [
    {
     "data": {
      "text/plain": [
       "2.5"
      ]
     },
     "execution_count": 54,
     "metadata": {},
     "output_type": "execute_result"
    }
   ],
   "source": [
    "np.median(a)"
   ]
  },
  {
   "cell_type": "code",
   "execution_count": 55,
   "id": "fe8dce63",
   "metadata": {},
   "outputs": [
    {
     "data": {
      "text/plain": [
       "1.1055415967851334"
      ]
     },
     "execution_count": 55,
     "metadata": {},
     "output_type": "execute_result"
    }
   ],
   "source": [
    "np.std(a)"
   ]
  },
  {
   "cell_type": "code",
   "execution_count": 56,
   "id": "bd926bc2",
   "metadata": {},
   "outputs": [
    {
     "data": {
      "text/plain": [
       "1.2222222222222223"
      ]
     },
     "execution_count": 56,
     "metadata": {},
     "output_type": "execute_result"
    }
   ],
   "source": [
    "np.var(a)"
   ]
  },
  {
   "cell_type": "code",
   "execution_count": 57,
   "id": "12248e45",
   "metadata": {},
   "outputs": [
    {
     "data": {
      "text/plain": [
       "4"
      ]
     },
     "execution_count": 57,
     "metadata": {},
     "output_type": "execute_result"
    }
   ],
   "source": [
    "# Polyval\n",
    "\n",
    "coeff =np.array([1,1,2])\n",
    "np.polyval(coeff,1)"
   ]
  },
  {
   "cell_type": "code",
   "execution_count": 58,
   "id": "3d600c60",
   "metadata": {},
   "outputs": [
    {
     "data": {
      "text/plain": [
       "array([2, 1])"
      ]
     },
     "execution_count": 58,
     "metadata": {},
     "output_type": "execute_result"
    }
   ],
   "source": [
    "np.polyder(coeff)"
   ]
  },
  {
   "cell_type": "code",
   "execution_count": 59,
   "id": "273368ea",
   "metadata": {},
   "outputs": [
    {
     "data": {
      "text/plain": [
       "array([0.33333333, 0.5       , 2.        , 0.        ])"
      ]
     },
     "execution_count": 59,
     "metadata": {},
     "output_type": "execute_result"
    }
   ],
   "source": [
    "np.polyint(coeff)"
   ]
  },
  {
   "cell_type": "code",
   "execution_count": null,
   "id": "595b6473",
   "metadata": {},
   "outputs": [],
   "source": []
  }
 ],
 "metadata": {
  "kernelspec": {
   "display_name": "Python 3 (ipykernel)",
   "language": "python",
   "name": "python3"
  },
  "language_info": {
   "codemirror_mode": {
    "name": "ipython",
    "version": 3
   },
   "file_extension": ".py",
   "mimetype": "text/x-python",
   "name": "python",
   "nbconvert_exporter": "python",
   "pygments_lexer": "ipython3",
   "version": "3.9.13"
  }
 },
 "nbformat": 4,
 "nbformat_minor": 5
}
